{
 "cells": [
  {
   "cell_type": "markdown",
   "metadata": {},
   "source": [
    "# Car Prices Data Science Learning"
   ]
  },
  {
   "cell_type": "markdown",
   "metadata": {},
   "source": [
    "In this project we use dataset from [Kaggle](https://www.kaggle.com/datasets/syedanwarafridi/vehicle-sales-data)."
   ]
  },
  {
   "cell_type": "markdown",
   "metadata": {},
   "source": [
    "## Imports and loading data"
   ]
  },
  {
   "cell_type": "code",
   "execution_count": null,
   "metadata": {
    "ExecuteTime": {
     "end_time": "2024-04-16T19:07:33.071918300Z",
     "start_time": "2024-04-16T19:07:31.143375200Z"
    },
    "colab": {
     "base_uri": "https://localhost:8080/"
    },
    "id": "HsndRak_0iLw",
    "outputId": "63d9f66a-ab4a-40a8-9458-cd421423bf4a"
   },
   "outputs": [],
   "source": [
    "import pandas as pd\n",
    "import numpy as np\n",
    "from matplotlib import pyplot as plt\n",
    "from matplotlib.patches import Patch\n",
    "from sklearn.preprocessing import MinMaxScaler\n",
    "import seaborn as sb\n",
    "import plotly.express as px\n",
    "import plotly.graph_objects as go\n",
    "from plotly.subplots import make_subplots\n",
    "import geopandas as gpd"
   ]
  },
  {
   "cell_type": "code",
   "execution_count": null,
   "metadata": {
    "ExecuteTime": {
     "end_time": "2024-04-16T19:07:37.980485600Z",
     "start_time": "2024-04-16T19:07:31.191999600Z"
    },
    "colab": {
     "base_uri": "https://localhost:8080/"
    },
    "id": "EPrfVUYZI6I4",
    "outputId": "7f451cd2-4278-4ea2-a4d8-d5d09423f816"
   },
   "outputs": [],
   "source": [
    "df = pd.read_csv('car_prices.csv')\n",
    "print(df.head())"
   ]
  },
  {
   "cell_type": "code",
   "execution_count": null,
   "metadata": {
    "ExecuteTime": {
     "end_time": "2024-04-16T19:07:38.992551300Z",
     "start_time": "2024-04-16T19:07:37.946155100Z"
    },
    "id": "IMT2aI14KkY1"
   },
   "outputs": [],
   "source": [
    "print(df.info())"
   ]
  },
  {
   "cell_type": "code",
   "execution_count": null,
   "metadata": {
    "ExecuteTime": {
     "end_time": "2024-04-16T19:07:39.622587900Z",
     "start_time": "2024-04-16T19:07:38.968326100Z"
    }
   },
   "outputs": [],
   "source": [
    "print(df.describe())"
   ]
  },
  {
   "cell_type": "markdown",
   "metadata": {},
   "source": [
    "## Clearing"
   ]
  },
  {
   "cell_type": "code",
   "execution_count": null,
   "metadata": {
    "ExecuteTime": {
     "end_time": "2024-04-16T19:07:40.615310800Z",
     "start_time": "2024-04-16T19:07:39.603574Z"
    }
   },
   "outputs": [],
   "source": [
    "nan_counts = df.isna().sum()\n",
    "print(nan_counts)"
   ]
  },
  {
   "cell_type": "code",
   "execution_count": null,
   "metadata": {
    "ExecuteTime": {
     "end_time": "2024-04-16T19:07:40.934040600Z",
     "start_time": "2024-04-16T19:07:40.604321100Z"
    }
   },
   "outputs": [],
   "source": [
    "df['model'].value_counts(dropna=False)"
   ]
  },
  {
   "cell_type": "code",
   "execution_count": null,
   "metadata": {
    "ExecuteTime": {
     "end_time": "2024-04-16T19:07:44.758053800Z",
     "start_time": "2024-04-16T19:07:40.855737100Z"
    }
   },
   "outputs": [],
   "source": [
    "df.nunique()"
   ]
  },
  {
   "cell_type": "code",
   "execution_count": null,
   "metadata": {
    "ExecuteTime": {
     "end_time": "2024-04-16T19:07:44.945829300Z",
     "start_time": "2024-04-16T19:07:44.726080900Z"
    }
   },
   "outputs": [],
   "source": [
    "print(df['color'].unique())"
   ]
  },
  {
   "cell_type": "code",
   "execution_count": null,
   "metadata": {
    "ExecuteTime": {
     "end_time": "2024-04-16T19:07:49.573754100Z",
     "start_time": "2024-04-16T19:07:44.949824100Z"
    }
   },
   "outputs": [],
   "source": [
    "df = df.drop_duplicates()"
   ]
  },
  {
   "cell_type": "code",
   "execution_count": null,
   "metadata": {
    "ExecuteTime": {
     "end_time": "2024-04-16T19:07:50.032136700Z",
     "start_time": "2024-04-16T19:07:49.579746800Z"
    }
   },
   "outputs": [],
   "source": [
    "df = df.loc[df['color'] != '—']"
   ]
  },
  {
   "cell_type": "code",
   "execution_count": null,
   "metadata": {
    "ExecuteTime": {
     "end_time": "2024-04-16T19:07:51.828371100Z",
     "start_time": "2024-04-16T19:07:50.037131500Z"
    }
   },
   "outputs": [],
   "source": [
    "df = df.dropna()\n",
    "print(df.isna().sum())"
   ]
  },
  {
   "cell_type": "code",
   "execution_count": null,
   "metadata": {
    "ExecuteTime": {
     "end_time": "2024-04-16T19:07:51.953054100Z",
     "start_time": "2024-04-16T19:07:51.810347200Z"
    }
   },
   "outputs": [],
   "source": [
    "df.dtypes"
   ]
  },
  {
   "cell_type": "markdown",
   "metadata": {},
   "source": [
    "## Scaling (Normalization)"
   ]
  },
  {
   "cell_type": "code",
   "execution_count": null,
   "metadata": {
    "ExecuteTime": {
     "end_time": "2024-04-16T19:07:52.165832400Z",
     "start_time": "2024-04-16T19:07:51.858343200Z"
    }
   },
   "outputs": [],
   "source": [
    "df1 = df[['year', 'condition', 'odometer', 'mmr', 'sellingprice']]\n",
    "scaler = MinMaxScaler()\n",
    "scaler.fit(df1)\n",
    "print(scaler.data_max_)\n",
    "print(scaler.transform(df1))\n",
    "\n",
    "scaled_data = scaler.fit_transform(df1)\n",
    "\n",
    "df2 = pd.DataFrame(scaled_data, columns=df1.columns)\n",
    "\n",
    "print(df2)\n"
   ]
  },
  {
   "cell_type": "markdown",
   "metadata": {},
   "source": [
    "## Data Visualization (Matplotlib)"
   ]
  },
  {
   "cell_type": "code",
   "execution_count": null,
   "metadata": {
    "ExecuteTime": {
     "end_time": "2024-04-16T19:07:54.043121900Z",
     "start_time": "2024-04-16T19:07:52.142020400Z"
    }
   },
   "outputs": [],
   "source": [
    "df['color'].value_counts().plot.bar()"
   ]
  },
  {
   "cell_type": "code",
   "execution_count": null,
   "metadata": {
    "ExecuteTime": {
     "end_time": "2024-04-16T19:07:55.986191100Z",
     "start_time": "2024-04-16T19:07:54.020143Z"
    }
   },
   "outputs": [],
   "source": [
    "counts = df['make'].value_counts()\n",
    "top_counts = counts.head(20)\n",
    "top_counts.plot.bar()"
   ]
  },
  {
   "cell_type": "code",
   "execution_count": null,
   "metadata": {
    "ExecuteTime": {
     "end_time": "2024-04-16T19:07:58.571177100Z",
     "start_time": "2024-04-16T19:07:55.996184500Z"
    }
   },
   "outputs": [],
   "source": [
    "df_ford = df.loc[df['make'] == 'Ford']\n",
    "ford_colors = df_ford['color'].value_counts()\n",
    "\n",
    "df_chev = df.loc[df['make'] == 'Chevrolet']\n",
    "chev_colors = df_chev['color'].value_counts()\n",
    "\n",
    "colors_comparison = pd.DataFrame(data={'Ford': ford_colors, 'Chevrolet': chev_colors})\n",
    "colors_comparison.plot.bar()\n",
    "# print(colors_comparison)"
   ]
  },
  {
   "cell_type": "markdown",
   "metadata": {},
   "source": [
    "## Data Visualization (Seaborn)"
   ]
  },
  {
   "cell_type": "code",
   "execution_count": null,
   "metadata": {
    "ExecuteTime": {
     "end_time": "2024-04-16T19:07:58.868079100Z",
     "start_time": "2024-04-16T19:07:58.583097800Z"
    }
   },
   "outputs": [],
   "source": [
    "df_sb = df[['year', 'make', 'sellingprice']]\n",
    "selected_makes = ['Chevrolet', 'Lexus', 'Mazda']\n",
    "df_sb = df_sb[df_sb['make'].isin(selected_makes)]\n",
    "df_avg_price = df_sb.groupby(['make', 'year'])['sellingprice'].mean().reset_index()\n",
    "df_avg_price"
   ]
  },
  {
   "cell_type": "code",
   "execution_count": null,
   "metadata": {
    "ExecuteTime": {
     "end_time": "2024-04-16T19:08:04.993385600Z",
     "start_time": "2024-04-16T19:07:58.798541100Z"
    }
   },
   "outputs": [],
   "source": [
    "sb.set_style(\"whitegrid\")\n",
    "\n",
    "plt.figure(figsize=(12, 8))\n",
    "sb.pointplot(data=df_avg_price, x='year', y='sellingprice', hue='make', dodge=False, markers='o', linestyles='--')\n",
    "plt.title('Point Plot for Sales Prices by Year and Brand')\n",
    "plt.xlabel('Year')\n",
    "plt.ylabel('Selling Price')\n",
    "plt.xticks(rotation=45)\n",
    "plt.legend(title='Make', bbox_to_anchor=(1.05, 1), loc='upper left')\n",
    "plt.tight_layout()\n",
    "plt.show()"
   ]
  },
  {
   "cell_type": "code",
   "execution_count": null,
   "metadata": {
    "ExecuteTime": {
     "end_time": "2024-04-16T19:08:09.028037600Z",
     "start_time": "2024-04-16T19:08:04.969410400Z"
    },
    "collapsed": false
   },
   "outputs": [],
   "source": [
    "total_counts = df['make'].value_counts()\n",
    "\n",
    "top_three_makes = total_counts.nlargest(3).index\n",
    "\n",
    "filtered_data = df[df['make'].isin(top_three_makes)]\n",
    "\n",
    "df_count = filtered_data.groupby(['year', 'make']).size().reset_index(name='count')\n",
    "\n",
    "sb.set_style(\"whitegrid\")\n",
    "\n",
    "plt.figure(figsize=(12, 8))\n",
    "sb.pointplot(data=df_count, x='year', y='count', hue='make', dodge=True, markers='o', linestyles='--')\n",
    "plt.title('Point Plot for Car Counts by Year for Top 3 Brands')\n",
    "plt.xlabel('Year')\n",
    "plt.ylabel('Count of Cars')\n",
    "plt.xticks(rotation=45)\n",
    "plt.legend(title='Make', bbox_to_anchor=(1.05, 1), loc='upper left')\n",
    "plt.tight_layout()\n",
    "plt.show()"
   ]
  },
  {
   "cell_type": "markdown",
   "metadata": {},
   "source": [
    "## Pie charts"
   ]
  },
  {
   "cell_type": "code",
   "execution_count": null,
   "metadata": {
    "ExecuteTime": {
     "end_time": "2024-04-16T19:08:09.825373200Z",
     "start_time": "2024-04-16T19:08:09.022071900Z"
    }
   },
   "outputs": [],
   "source": [
    "fig = make_subplots(rows=1, cols=2, specs=[[{'type':'domain'}, {'type':'domain'}]], subplot_titles=('Transmission type', 'Brand'))\n",
    "\n",
    "fig.add_trace(go.Pie(values=df['transmission'].value_counts(), \n",
    "                     labels=df['transmission'].unique(),\n",
    "                     marker=dict(colors=px.colors.sequential.Bluered),\n",
    "                     textposition='inside',\n",
    "                     textinfo='percent+label+value',\n",
    "                     textfont_size=12,\n",
    "                     showlegend=False),\n",
    "                     1, 1)\n",
    "\n",
    "fig.add_trace(go.Pie(values=df['make'].value_counts(), \n",
    "                     labels=df['make'].unique(),\n",
    "                     marker=dict(colors=px.colors.sequential.RdBu),\n",
    "                     textposition='inside',\n",
    "                     textinfo='percent+label',\n",
    "                     textfont_size=12,\n",
    "                     showlegend=True),\n",
    "                     1, 2)\n",
    "\n",
    "\n",
    "fig.show()\n"
   ]
  },
  {
   "cell_type": "code",
   "execution_count": null,
   "metadata": {
    "ExecuteTime": {
     "end_time": "2024-04-16T19:08:10.078835200Z",
     "start_time": "2024-04-16T19:08:09.619693600Z"
    },
    "collapsed": false
   },
   "outputs": [],
   "source": [
    "manual_cars = df[df['transmission'] == 'manual']\n",
    "\n",
    "fig = make_subplots(rows=1, cols=1, specs=[[{'type':'domain'}]])\n",
    "\n",
    "fig.add_trace(go.Pie(values=manual_cars['make'].value_counts(), \n",
    "                     labels=manual_cars['make'].value_counts().index,\n",
    "                     marker=dict(colors=px.colors.sequential.RdBu),\n",
    "                     textposition='inside',\n",
    "                     textinfo='percent+label',\n",
    "                     textfont_size=12,\n",
    "                     showlegend=True),\n",
    "                     1, 1)\n",
    "\n",
    "fig.update_layout(title_text='Market share by brand among manual transmission cars')\n",
    "\n",
    "fig.show()"
   ]
  },
  {
   "cell_type": "markdown",
   "metadata": {},
   "source": [
    "## Scatter plot"
   ]
  },
  {
   "cell_type": "code",
   "execution_count": null,
   "metadata": {
    "ExecuteTime": {
     "end_time": "2024-04-16T19:08:16.388393500Z",
     "start_time": "2024-04-16T19:08:09.892728900Z"
    }
   },
   "outputs": [],
   "source": [
    "sb.scatterplot(df, x=\"odometer\", y=\"sellingprice\")\n",
    "plt.xlabel(\"Odometer [km]\")\n",
    "plt.ylabel(\"Selling Price[$]\")\n",
    "plt.title(\"Selling Price vs. Odometer Reading\")\n",
    "plt.grid(True)\n",
    "\n",
    "plt.show()"
   ]
  },
  {
   "cell_type": "code",
   "execution_count": null,
   "metadata": {
    "ExecuteTime": {
     "end_time": "2024-04-16T19:08:22.700027400Z",
     "start_time": "2024-04-16T19:08:16.360086900Z"
    }
   },
   "outputs": [],
   "source": [
    "sb.scatterplot(df, x=\"mmr\", y=\"sellingprice\")\n",
    "plt.xlabel(\"MMR\")\n",
    "plt.ylabel(\"Selling Price[$]\")\n",
    "plt.title(\"Selling Price vs. MMR\")\n",
    "plt.grid(True)\n",
    "\n",
    "plt.show()"
   ]
  },
  {
   "cell_type": "code",
   "execution_count": null,
   "metadata": {
    "ExecuteTime": {
     "end_time": "2024-04-16T19:08:37.252470500Z",
     "start_time": "2024-04-16T19:08:22.672715Z"
    }
   },
   "outputs": [],
   "source": [
    "fig, ax = plt.subplots(1, 2, figsize=(12, 5))\n",
    "\n",
    "sb.scatterplot(df, x=\"mmr\", y=\"sellingprice\", ax=ax[0])\n",
    "sb.scatterplot(df, x=\"odometer\", y=\"sellingprice\", ax=ax[1])\n",
    "\n",
    "plt.xlabel(\"MMR\")\n",
    "plt.ylabel(\"Selling Price[$]\")\n",
    "plt.xlabel(\"Odometer [km]\")\n",
    "plt.ylabel(\"Selling Price[$]\")\n",
    "plt.suptitle(\"Selling Price vs. MMR and Odometer\")\n",
    "plt.tight_layout()\n",
    "\n",
    "plt.show()"
   ]
  },
  {
   "cell_type": "markdown",
   "metadata": {},
   "source": [
    "## Geo charts\n"
   ]
  },
  {
   "cell_type": "code",
   "execution_count": null,
   "metadata": {
    "ExecuteTime": {
     "end_time": "2024-04-16T19:08:42.466184900Z",
     "start_time": "2024-04-16T19:08:37.246062Z"
    }
   },
   "outputs": [],
   "source": [
    "url = \"shapefiles/States_shapefile.shp\"\n",
    "gdf_states = gpd.read_file(url)\n",
    "\n",
    "df_copy = df.copy()\n",
    "\n",
    "df_copy.loc[:, 'state'] = df['state'].str.upper()\n",
    "\n",
    "states = df_copy['state'].value_counts()\n",
    "all_states = gdf_states['State_Code'].unique()\n",
    "\n",
    "brand_counts = df_copy.groupby(['state', 'make']).size().reset_index(name='counts')\n",
    "\n",
    "most_popular_brand = brand_counts.groupby('state').apply(lambda x: x.loc[x['counts'].idxmax()]).reset_index(drop=True)\n",
    "\n",
    "merged_data = gdf_states.merge(most_popular_brand, left_on='State_Code', right_on='state', how='left')\n",
    "merged_data['make'] = merged_data['make']\n",
    "\n",
    "fig, ax = plt.subplots(1, 1, figsize=(20, 20))\n",
    "gdf_states.boundary.plot(ax=ax, aspect=1, linewidth=.8, color='black')\n",
    "merged_data.plot(column='make', legend=True, cmap='Set3', ax=ax, aspect=1)\n",
    "\n",
    "plt.title('Most popular brand in each state')\n",
    "plt.show()"
   ]
  },
  {
   "cell_type": "code",
   "execution_count": null,
   "metadata": {
    "ExecuteTime": {
     "end_time": "2024-04-16T19:08:45.587334300Z",
     "start_time": "2024-04-16T19:08:41.862481700Z"
    },
    "collapsed": false
   },
   "outputs": [],
   "source": [
    "url = \"shapefiles/States_shapefile.shp\"\n",
    "gdf_states = gpd.read_file(url)\n",
    "\n",
    "df_copy = df.copy()\n",
    "df_copy['state'] = df_copy['state'].str.upper()\n",
    "\n",
    "model_counts = df_copy.groupby(['state', 'make', 'model']).size().reset_index(name='counts')\n",
    "\n",
    "most_popular_model = model_counts.groupby('state').apply(lambda x: x.loc[x['counts'].idxmax()]).reset_index(drop=True)\n",
    "\n",
    "most_popular_model['make_model'] = most_popular_model['make'] + \" \" + most_popular_model['model']\n",
    "\n",
    "merged_data = gdf_states.merge(most_popular_model, left_on='State_Code', right_on='state', how='left')\n",
    "\n",
    "fig, ax = plt.subplots(1, 1, figsize=(20, 20))\n",
    "gdf_states.boundary.plot(ax=ax, aspect=1, linewidth=.8, color='black')\n",
    "merged_data.plot(column='make_model', legend=True, cmap='Set3', ax=ax, aspect=1)\n",
    "\n",
    "plt.title('Most popular car model in each state')\n",
    "plt.show()"
   ]
  },
  {
   "cell_type": "code",
   "execution_count": null,
   "metadata": {
    "ExecuteTime": {
     "end_time": "2024-04-16T19:08:45.620685300Z",
     "start_time": "2024-04-16T19:08:45.584336100Z"
    },
    "collapsed": false
   },
   "outputs": [],
   "source": []
  }
 ],
 "metadata": {
  "colab": {
   "provenance": []
  },
  "kernelspec": {
   "display_name": "Python 3 (ipykernel)",
   "language": "python",
   "name": "python3"
  },
  "language_info": {
   "codemirror_mode": {
    "name": "ipython",
    "version": 3
   },
   "file_extension": ".py",
   "mimetype": "text/x-python",
   "name": "python",
   "nbconvert_exporter": "python",
   "pygments_lexer": "ipython3",
   "version": "3.11.4"
  }
 },
 "nbformat": 4,
 "nbformat_minor": 0
}
