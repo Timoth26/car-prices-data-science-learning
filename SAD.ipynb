{
  "cells": [
    {
      "cell_type": "code",
      "execution_count": null,
      "metadata": {
        "colab": {
          "base_uri": "https://localhost:8080/"
        },
        "id": "HsndRak_0iLw",
        "outputId": "63d9f66a-ab4a-40a8-9458-cd421423bf4a"
      },
      "outputs": [],
      "source": [
        "import pandas as pd\n",
        "import numpy as np\n",
        "from matplotlib import pyplot as plt\n",
        "from sklearn.preprocessing import MinMaxScaler\n",
        "import seaborn as sb\n",
        "import plotly.express as px"
      ]
    },
    {
      "cell_type": "code",
      "execution_count": null,
      "metadata": {
        "colab": {
          "base_uri": "https://localhost:8080/"
        },
        "id": "EPrfVUYZI6I4",
        "outputId": "7f451cd2-4278-4ea2-a4d8-d5d09423f816"
      },
      "outputs": [],
      "source": [
        "df = pd.read_csv('car_prices.csv')\n",
        "print(df.head())"
      ]
    },
    {
      "cell_type": "code",
      "execution_count": null,
      "metadata": {
        "id": "IMT2aI14KkY1"
      },
      "outputs": [],
      "source": [
        "print(df.info())"
      ]
    },
    {
      "cell_type": "code",
      "execution_count": null,
      "metadata": {},
      "outputs": [],
      "source": [
        "print(df.describe())"
      ]
    },
    {
      "cell_type": "code",
      "execution_count": null,
      "metadata": {},
      "outputs": [],
      "source": [
        "nan_counts = df.isna().sum()\n",
        "print(nan_counts)"
      ]
    },
    {
      "cell_type": "code",
      "execution_count": null,
      "metadata": {},
      "outputs": [],
      "source": [
        "df['model'].value_counts(dropna=False)"
      ]
    },
    {
      "cell_type": "code",
      "execution_count": null,
      "metadata": {},
      "outputs": [],
      "source": [
        "df.nunique()"
      ]
    },
    {
      "cell_type": "code",
      "execution_count": null,
      "metadata": {},
      "outputs": [],
      "source": [
        "print(df['color'].unique())"
      ]
    },
    {
      "cell_type": "code",
      "execution_count": null,
      "metadata": {},
      "outputs": [],
      "source": [
        "df = df.drop_duplicates()"
      ]
    },
    {
      "cell_type": "code",
      "execution_count": null,
      "metadata": {},
      "outputs": [],
      "source": [
        "df = df.loc[df['color'] != '—']"
      ]
    },
    {
      "cell_type": "code",
      "execution_count": null,
      "metadata": {},
      "outputs": [],
      "source": [
        "df = df.dropna()\n",
        "print(df.isna().sum())"
      ]
    },
    {
      "cell_type": "code",
      "execution_count": null,
      "metadata": {},
      "outputs": [],
      "source": [
        "df.dtypes"
      ]
    },
    {
      "cell_type": "code",
      "execution_count": null,
      "metadata": {},
      "outputs": [],
      "source": [
        "df1 = df[['year', 'condition', 'odometer', 'mmr', 'sellingprice']]\n",
        "scaler = MinMaxScaler()\n",
        "scaler.fit(df1)\n",
        "print(scaler.data_max_)\n",
        "print(scaler.transform(df1))\n",
        "\n",
        "scaled_data = scaler.fit_transform(df1)\n",
        "\n",
        "df2 = pd.DataFrame(scaled_data, columns=df1.columns)\n",
        "\n",
        "print(df2)\n"
      ]
    },
    {
      "cell_type": "markdown",
      "metadata": {},
      "source": [
        "# DATA VISUALISATION (lab 2)"
      ]
    },
    {
      "cell_type": "code",
      "execution_count": null,
      "metadata": {},
      "outputs": [],
      "source": [
        "df['color'].value_counts().plot.bar()"
      ]
    },
    {
      "cell_type": "code",
      "execution_count": null,
      "metadata": {},
      "outputs": [],
      "source": [
        "counts = df['make'].value_counts()\n",
        "top_counts = counts.head(20)\n",
        "top_counts.plot.bar()"
      ]
    },
    {
      "cell_type": "code",
      "execution_count": null,
      "metadata": {},
      "outputs": [],
      "source": [
        "df_ford = df.loc[df['make'] == 'Ford']\n",
        "ford_colors = df_ford['color'].value_counts()\n",
        "\n",
        "df_chev = df.loc[df['make'] == 'Chevrolet']\n",
        "chev_colors = df_chev['color'].value_counts()\n",
        "\n",
        "colors_comparison = pd.DataFrame(data={'Ford': ford_colors, 'Chevrolet': chev_colors})\n",
        "colors_comparison.plot.bar()\n",
        "# print(colors_comparison)"
      ]
    },
    {
      "cell_type": "code",
      "execution_count": null,
      "metadata": {},
      "outputs": [],
      "source": [
        "df_sb = df[['year', 'make', 'sellingprice']]\n",
        "selected_makes = ['Chevrolet', 'Lexus', 'Mazda']\n",
        "df_sb = df_sb[df_sb['make'].isin(selected_makes)]\n",
        "df_avg_price = df_sb.groupby(['make', 'year'])['sellingprice'].mean().reset_index()\n",
        "df_avg_price"
      ]
    },
    {
      "cell_type": "code",
      "execution_count": null,
      "metadata": {},
      "outputs": [],
      "source": [
        "sb.set_style(\"whitegrid\")\n",
        "\n",
        "plt.figure(figsize=(12, 8))\n",
        "sb.pointplot(data=df_avg_price, x='year', y='sellingprice', hue='make', dodge=False, markers='o', linestyles='--')\n",
        "plt.title('Point Plot for Sales Prices by Year and Brand')\n",
        "plt.xlabel('Year')\n",
        "plt.ylabel('Selling Price')\n",
        "plt.xticks(rotation=45)\n",
        "plt.legend(title='Make', bbox_to_anchor=(1.05, 1), loc='upper left')\n",
        "plt.tight_layout()\n",
        "plt.show()"
      ]
    },
    {
      "cell_type": "markdown",
      "metadata": {},
      "source": [
        "## Pie chart"
      ]
    },
    {
      "cell_type": "code",
      "execution_count": null,
      "metadata": {},
      "outputs": [],
      "source": [
        "pie_chart = px.pie(values=df['transmission'].value_counts(), \n",
        "                   names=df['transmission'].unique(),\n",
        "                   color_discrete_sequence=px.colors.sequential.RdBu, \n",
        "                   title='Transmission type')\n",
        "\n",
        "pie_chart.update_traces(textposition='inside',\n",
        "                        textinfo='percent+label+value',\n",
        "                        marker=dict(line=dict(color='#FFFFFF', width=2)),\n",
        "                        textfont_size=12)\n",
        "\n",
        "pie_chart.show()\n"
      ]
    }
  ],
  "metadata": {
    "colab": {
      "provenance": []
    },
    "kernelspec": {
      "display_name": "Python 3",
      "name": "python3"
    },
    "language_info": {
      "codemirror_mode": {
        "name": "ipython",
        "version": 3
      },
      "file_extension": ".py",
      "mimetype": "text/x-python",
      "name": "python",
      "nbconvert_exporter": "python",
      "pygments_lexer": "ipython3",
      "version": "3.11.4"
    }
  },
  "nbformat": 4,
  "nbformat_minor": 0
}
